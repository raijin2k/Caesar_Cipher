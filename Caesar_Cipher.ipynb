{
 "cells": [
  {
   "cell_type": "code",
   "execution_count": 2,
   "id": "aed7810a",
   "metadata": {},
   "outputs": [
    {
     "name": "stdout",
     "output_type": "stream",
     "text": [
      "Encrypt or Decrypt (E/D): \n",
      "D\n",
      "Enter The Key (0-25): 13\n",
      "Enter Your String: \n",
      "KNR12\n",
      "The Output is: NOPQRSTUVWXYZABCDEFGHIJKLM\n"
     ]
    }
   ],
   "source": [
    "def seizure(key,state):\n",
    "    symb='ABCDEFGHIJKLMNOPQRSTUVWXYZ'\n",
    "    temp=symb[key:]+symb[:key]\n",
    "    new_str=''\n",
    "    x=input('Enter Your String: \\n')\n",
    "    x=x.upper()\n",
    "    if state == 'e':\n",
    "        for val in x:\n",
    "            if val in symb:\n",
    "                new_str+=temp[ord(val)-65]\n",
    "            else:\n",
    "                new_str+=val\n",
    "    else:\n",
    "        for val in symb:\n",
    "            if val!=' ':\n",
    "                new_str+=symb[temp.index(val)]\n",
    "            else:\n",
    "                new_str+=val\n",
    "    print('The Output is:',new_str)\n",
    "            \n",
    "    \n",
    "while True:\n",
    "    state=input(r'Encrypt or Decrypt (E/D): '+'\\n')\n",
    "    if state.upper() =='E'or state.upper() =='D':\n",
    "        key=int(input('Enter The Key (0-25): '))\n",
    "        if key < 26 and key>0:\n",
    "            seizure(key,state.lower())\n",
    "            break\n",
    "        else:\n",
    "            print('Invalid Key')\n",
    "    else:\n",
    "        print('Invalid Selection')"
   ]
  },
  {
   "cell_type": "code",
   "execution_count": null,
   "id": "922c5a6c",
   "metadata": {},
   "outputs": [],
   "source": []
  }
 ],
 "metadata": {
  "kernelspec": {
   "display_name": "Python 3",
   "language": "python",
   "name": "python3"
  },
  "language_info": {
   "codemirror_mode": {
    "name": "ipython",
    "version": 3
   },
   "file_extension": ".py",
   "mimetype": "text/x-python",
   "name": "python",
   "nbconvert_exporter": "python",
   "pygments_lexer": "ipython3",
   "version": "3.8.8"
  }
 },
 "nbformat": 4,
 "nbformat_minor": 5
}
